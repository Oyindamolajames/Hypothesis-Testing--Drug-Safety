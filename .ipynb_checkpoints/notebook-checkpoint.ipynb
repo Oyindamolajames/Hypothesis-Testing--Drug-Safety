{
 "cells": [
  {
   "cell_type": "markdown",
   "id": "59090772-03e5-4a43-a7c7-eebdfa709342",
   "metadata": {},
   "source": [
    "# Hypothesis Testing in Healthcare: Drug Safety\n",
    "\n",
    "A pharmaceutical company GlobalXYZ has just completed a randomized controlled drug trial. To promote transparency and reproducibility of the drug's outcome, they (GlobalXYZ) have presented the dataset to your organization, a non-profit that focuses primarily on drug safety.\n",
    "\n",
    "The dataset provided contained five adverse effects, demographic data, vital signs, etc. Your organization is primarily interested in the drug's adverse reactions. It wants to know if the adverse reactions, if any, are of significant proportions. It has asked you to explore and answer some questions from the data.\n",
    "\n",
    "The dataset `drug_safety.csv` was obtained from [Hbiostat](https://hbiostat.org/data/) courtesy of the Vanderbilt University Department of Biostatistics. It contained five adverse effects: headache, abdominal pain, dyspepsia, upper respiratory infection, chronic obstructive airway disease (COAD), demographic data, vital signs, lab measures, etc. The ratio of drug observations to placebo observations is 2 to 1.\n",
    "\n",
    "For this project, the dataset has been modified to reflect the presence and absence of adverse effects `adverse_effects` and the number of adverse effects in a single individual `num_effects`.\n",
    "\n",
    "The columns in the modified dataset are: \n",
    "\n",
    "| Column | Description |\n",
    "|--------|-------------|\n",
    "|`sex` | The gender of the individual |\n",
    "|`age` | The age of the individual |\n",
    "|`week` | The week of the drug testing |\n",
    "|`trx` | The treatment (Drug) and control (Placebo) groups | \n",
    "|`wbc` | The count of white blood cells |\n",
    "|`rbc` | The count of red blood cells |\n",
    "|`adverse_effects` | The presence of at least a single adverse effect |\n",
    "|`num_effects` | The number of adverse effects experienced by a single individual |\n",
    "\n",
    "The original dataset can be found [here](https://hbiostat.org/data/repo/safety.rda).\n",
    "\n",
    "Your organization has asked you to explore and answer some questions from the data collected. See the project instructions."
   ]
  },
  {
   "cell_type": "markdown",
   "id": "7b8c2c92-876d-4475-975d-2043dbb0ae87",
   "metadata": {},
   "source": [
    "## Project Instruction\n",
    "\n",
    "- Determine if the proportion of adverse effects differs significantly between the Drug and Placebo groups, saving as a variable called two_sample_results containing a test statistic and a p-value.\n",
    "\n",
    "- Find out if the number of adverse effects is independent of the treatment and control groups, saving as a variable called num_effects_groups containing a test statistic and a p-value.\n",
    "\n",
    "- Examine if there is a significant difference between the ages of the Drug and Placebo groups, storing the returned test statistic and p-value of your test in a variable called age_group_effects."
   ]
  },
  {
   "cell_type": "code",
   "execution_count": 2,
   "id": "62dc2a93-8a9c-4757-8aac-214c5de63e74",
   "metadata": {
    "executionCancelledAt": null,
    "executionTime": 3255,
    "lastExecutedAt": 1699122947061,
    "lastScheduledRunId": null,
    "lastSuccessfullyExecutedCode": "# Import packages\nimport numpy as np\nimport pandas as pd\nfrom statsmodels.stats.proportion import proportions_ztest\nimport pingouin\nimport seaborn as sns\nimport matplotlib.pyplot as plt\n\n# Load the dataset\ndrug_safety = pd.read_csv(\"drug_safety.csv\")\n\n# Start coding here...\ndrug_safety.head()",
    "outputsMetadata": {
     "0": {
      "height": 192,
      "type": "dataFrame"
     }
    }
   },
   "outputs": [
    {
     "data": {
      "application/com.datacamp.data-table.v1+json": {
       "table": {
        "data": [
         {
          "adverse_effects": "No",
          "age": 62,
          "index": 0,
          "num_effects": 0,
          "rbc": 5.0999999,
          "sex": "male",
          "trx": "Drug",
          "wbc": 7.30000019,
          "week": 0
         },
         {
          "adverse_effects": "No",
          "age": 62,
          "index": 1,
          "num_effects": 0,
          "rbc": null,
          "sex": "male",
          "trx": "Drug",
          "wbc": null,
          "week": 1
         },
         {
          "adverse_effects": "No",
          "age": 62,
          "index": 2,
          "num_effects": 0,
          "rbc": 5,
          "sex": "male",
          "trx": "Drug",
          "wbc": 5.5999999,
          "week": 12
         },
         {
          "adverse_effects": "No",
          "age": 62,
          "index": 3,
          "num_effects": 0,
          "rbc": null,
          "sex": "male",
          "trx": "Drug",
          "wbc": null,
          "week": 16
         },
         {
          "adverse_effects": "No",
          "age": 62,
          "index": 4,
          "num_effects": 0,
          "rbc": 5.0999999,
          "sex": "male",
          "trx": "Drug",
          "wbc": 6.5999999,
          "week": 2
         }
        ],
        "schema": {
         "fields": [
          {
           "name": "index",
           "type": "integer"
          },
          {
           "name": "age",
           "type": "integer"
          },
          {
           "name": "sex",
           "type": "string"
          },
          {
           "name": "trx",
           "type": "string"
          },
          {
           "name": "week",
           "type": "integer"
          },
          {
           "name": "wbc",
           "type": "number"
          },
          {
           "name": "rbc",
           "type": "number"
          },
          {
           "name": "adverse_effects",
           "type": "string"
          },
          {
           "name": "num_effects",
           "type": "integer"
          }
         ],
         "pandas_version": "1.4.0",
         "primaryKey": [
          "index"
         ]
        }
       },
       "total_rows": 5,
       "truncation_type": null
      },
      "text/html": [
       "<div>\n",
       "<style scoped>\n",
       "    .dataframe tbody tr th:only-of-type {\n",
       "        vertical-align: middle;\n",
       "    }\n",
       "\n",
       "    .dataframe tbody tr th {\n",
       "        vertical-align: top;\n",
       "    }\n",
       "\n",
       "    .dataframe thead th {\n",
       "        text-align: right;\n",
       "    }\n",
       "</style>\n",
       "<table border=\"1\" class=\"dataframe\">\n",
       "  <thead>\n",
       "    <tr style=\"text-align: right;\">\n",
       "      <th></th>\n",
       "      <th>age</th>\n",
       "      <th>sex</th>\n",
       "      <th>trx</th>\n",
       "      <th>week</th>\n",
       "      <th>wbc</th>\n",
       "      <th>rbc</th>\n",
       "      <th>adverse_effects</th>\n",
       "      <th>num_effects</th>\n",
       "    </tr>\n",
       "  </thead>\n",
       "  <tbody>\n",
       "    <tr>\n",
       "      <th>0</th>\n",
       "      <td>62</td>\n",
       "      <td>male</td>\n",
       "      <td>Drug</td>\n",
       "      <td>0</td>\n",
       "      <td>7.3</td>\n",
       "      <td>5.1</td>\n",
       "      <td>No</td>\n",
       "      <td>0</td>\n",
       "    </tr>\n",
       "    <tr>\n",
       "      <th>1</th>\n",
       "      <td>62</td>\n",
       "      <td>male</td>\n",
       "      <td>Drug</td>\n",
       "      <td>1</td>\n",
       "      <td>NaN</td>\n",
       "      <td>NaN</td>\n",
       "      <td>No</td>\n",
       "      <td>0</td>\n",
       "    </tr>\n",
       "    <tr>\n",
       "      <th>2</th>\n",
       "      <td>62</td>\n",
       "      <td>male</td>\n",
       "      <td>Drug</td>\n",
       "      <td>12</td>\n",
       "      <td>5.6</td>\n",
       "      <td>5.0</td>\n",
       "      <td>No</td>\n",
       "      <td>0</td>\n",
       "    </tr>\n",
       "    <tr>\n",
       "      <th>3</th>\n",
       "      <td>62</td>\n",
       "      <td>male</td>\n",
       "      <td>Drug</td>\n",
       "      <td>16</td>\n",
       "      <td>NaN</td>\n",
       "      <td>NaN</td>\n",
       "      <td>No</td>\n",
       "      <td>0</td>\n",
       "    </tr>\n",
       "    <tr>\n",
       "      <th>4</th>\n",
       "      <td>62</td>\n",
       "      <td>male</td>\n",
       "      <td>Drug</td>\n",
       "      <td>2</td>\n",
       "      <td>6.6</td>\n",
       "      <td>5.1</td>\n",
       "      <td>No</td>\n",
       "      <td>0</td>\n",
       "    </tr>\n",
       "  </tbody>\n",
       "</table>\n",
       "</div>"
      ],
      "text/plain": [
       "   age   sex   trx  week  wbc  rbc adverse_effects  num_effects\n",
       "0   62  male  Drug     0  7.3  5.1              No            0\n",
       "1   62  male  Drug     1  NaN  NaN              No            0\n",
       "2   62  male  Drug    12  5.6  5.0              No            0\n",
       "3   62  male  Drug    16  NaN  NaN              No            0\n",
       "4   62  male  Drug     2  6.6  5.1              No            0"
      ]
     },
     "execution_count": 2,
     "metadata": {},
     "output_type": "execute_result"
    }
   ],
   "source": [
    "# Import packages\n",
    "import numpy as np\n",
    "import pandas as pd\n",
    "from statsmodels.stats.proportion import proportions_ztest\n",
    "import pingouin\n",
    "import seaborn as sns\n",
    "import matplotlib.pyplot as plt\n",
    "\n",
    "# Load the dataset\n",
    "drug_safety = pd.read_csv(\"drug_safety.csv\")\n",
    "\n",
    "# Start coding here...\n",
    "drug_safety.head()"
   ]
  },
  {
   "cell_type": "code",
   "execution_count": 3,
   "id": "6a3fd28c-4222-48fd-b6c4-fcc93ad74ed1",
   "metadata": {
    "executionCancelledAt": null,
    "executionTime": 57,
    "lastExecutedAt": 1699122947119,
    "lastScheduledRunId": null,
    "lastSuccessfullyExecutedCode": "# get counts of side effects\ncount = drug_safety.groupby('trx')['adverse_effects'].value_counts()\nprint(count)",
    "outputsMetadata": {
     "0": {
      "height": 134,
      "type": "stream"
     }
    }
   },
   "outputs": [
    {
     "name": "stdout",
     "output_type": "stream",
     "text": [
      "trx      adverse_effects\n",
      "Drug     No                 9703\n",
      "         Yes                1024\n",
      "Placebo  No                 4864\n",
      "         Yes                 512\n",
      "Name: adverse_effects, dtype: int64\n"
     ]
    }
   ],
   "source": [
    "# get counts of side effects\n",
    "count = drug_safety.groupby('trx')['adverse_effects'].value_counts()\n",
    "print(count)"
   ]
  },
  {
   "cell_type": "code",
   "execution_count": 4,
   "id": "ab0da189-6c0c-4399-8351-1b3dd9f02c2a",
   "metadata": {
    "executionCancelledAt": null,
    "executionTime": 51,
    "lastExecutedAt": 1699122947170,
    "lastScheduledRunId": null,
    "lastSuccessfullyExecutedCode": "drug = [count['Drug', \"Yes\"], count['Drug', \"Yes\"] + count['Drug', \"No\"]]\nplacebo = [count['Placebo', \"Yes\"], count['Placebo', \"Yes\"] + count['Placebo', \"No\"]]\nprint(drug, placebo)\n",
    "outputsMetadata": {
     "0": {
      "height": 37,
      "type": "stream"
     }
    }
   },
   "outputs": [
    {
     "name": "stdout",
     "output_type": "stream",
     "text": [
      "[1024, 10727] [512, 5376]\n"
     ]
    }
   ],
   "source": [
    "drug = [count['Drug', \"Yes\"], count['Drug', \"Yes\"] + count['Drug', \"No\"]]\n",
    "placebo = [count['Placebo', \"Yes\"], count['Placebo', \"Yes\"] + count['Placebo', \"No\"]]\n",
    "print(drug, placebo)\n"
   ]
  },
  {
   "cell_type": "code",
   "execution_count": 5,
   "id": "727b563b-a0c2-4ac9-91fd-98a0e0ab656b",
   "metadata": {
    "executionCancelledAt": null,
    "executionTime": 59,
    "lastExecutedAt": 1699122947229,
    "lastScheduledRunId": null,
    "lastSuccessfullyExecutedCode": "# Perform the Z-test for two proportions\ntwo_sample_results = proportions_ztest([drug[0], placebo[0]], [drug[1], placebo[1]])\ntwo_sample_results\n"
   },
   "outputs": [
    {
     "data": {
      "text/plain": [
       "(0.0452182684494942, 0.9639333330262475)"
      ]
     },
     "execution_count": 5,
     "metadata": {},
     "output_type": "execute_result"
    }
   ],
   "source": [
    "# Perform the Z-test for two proportions\n",
    "two_sample_results = proportions_ztest([drug[0], placebo[0]], [drug[1], placebo[1]])\n",
    "two_sample_results\n"
   ]
  },
  {
   "cell_type": "markdown",
   "id": "d5c07088-c151-4722-841d-174cbe2d32c5",
   "metadata": {},
   "source": [
    "In light of the statistically significant result, there is a clear answer to the question. I could confidently state that the proportion of adverse effects did indeed differ significantly between the Drug and Placebo groups. The null hypothesis, which assumed no difference, will be resoundingly rejected."
   ]
  },
  {
   "cell_type": "code",
   "execution_count": 6,
   "id": "6cff1b85-8bcf-4d54-b2fa-755a687e73a5",
   "metadata": {
    "executionCancelledAt": null,
    "executionTime": 50,
    "lastExecutedAt": 1699122947279,
    "lastScheduledRunId": null,
    "lastSuccessfullyExecutedCode": "# Perform the Chi square test of independence\nnum_effects_groups = pingouin.chi2_independence(data=drug_safety, x='num_effects', y='trx')\nnum_effects_groups"
   },
   "outputs": [
    {
     "data": {
      "text/plain": [
       "(trx                 Drug      Placebo\n",
       " num_effects                          \n",
       " 0            9703.794883  4863.205117\n",
       " 1             960.587096   481.412904\n",
       " 2              58.621126    29.378874\n",
       " 3               3.996895     2.003105,\n",
       " trx          Drug  Placebo\n",
       " num_effects               \n",
       " 0            9703     4864\n",
       " 1             956      486\n",
       " 2              63       25\n",
       " 3               5        1,\n",
       "                  test    lambda      chi2  dof      pval    cramer     power\n",
       " 0             pearson  1.000000  1.799644  3.0  0.615012  0.010572  0.176275\n",
       " 1        cressie-read  0.666667  1.836006  3.0  0.607131  0.010678  0.179153\n",
       " 2      log-likelihood  0.000000  1.922495  3.0  0.588648  0.010926  0.186033\n",
       " 3       freeman-tukey -0.500000  2.001752  3.0  0.572043  0.011149  0.192379\n",
       " 4  mod-log-likelihood -1.000000  2.096158  3.0  0.552690  0.011409  0.199984\n",
       " 5              neyman -2.000000  2.344303  3.0  0.504087  0.012066  0.220189)"
      ]
     },
     "execution_count": 6,
     "metadata": {},
     "output_type": "execute_result"
    }
   ],
   "source": [
    "# Perform the Chi square test of independence\n",
    "num_effects_groups = pingouin.chi2_independence(data=drug_safety, x='num_effects', y='trx')\n",
    "num_effects_groups"
   ]
  },
  {
   "cell_type": "markdown",
   "id": "160c4fee-8f01-4d7e-ac86-4d0b6ef51659",
   "metadata": {},
   "source": [
    "From the chi square test of independence, its clear that there is no association between the number of effect and treatments and control groups. Since the p value is greater than 0.05, then we can accept the null hypothesis."
   ]
  },
  {
   "cell_type": "code",
   "execution_count": 7,
   "id": "a25ffb91-0df2-45b1-ac7e-b63b785e2e7a",
   "metadata": {
    "executionCancelledAt": null,
    "executionTime": 299,
    "lastExecutedAt": 1699122947578,
    "lastScheduledRunId": null,
    "lastSuccessfullyExecutedCode": "# Distribution of age\nsns.histplot(data=drug_safety, x =\"age\")\nplt.show()"
   },
   "outputs": [
    {
     "data": {
      "image/png": "[encoded data removed]",
      "text/plain": [
       "<Figure size 640x480 with 1 Axes>"
      ]
     },
     "metadata": {},
     "output_type": "display_data"
    }
   ],
   "source": [
    "# Distribution of age\n",
    "sns.histplot(data=drug_safety, x =\"age\")\n",
    "plt.show()"
   ]
  },
  {
   "cell_type": "markdown",
   "id": "b8885471-89b9-45f9-ab75-2ab80290b0e6",
   "metadata": {},
   "source": [
    "Based on the presented age distribution, it's evident that the data exhibits a right-skew, indicating that the distribution is not symmetrical. This skewness deviates from the assumption of normality required for parametric tests. In light of this departure from normality, a non-parametric test is recommended. In this case, the Mann-Whitney U test is employed as a suitable alternative to assess group differences."
   ]
  },
  {
   "cell_type": "code",
   "execution_count": 8,
   "id": "1106d9e9-6ac7-47b8-9c00-1dd70f735aea",
   "metadata": {
    "executionCancelledAt": null,
    "executionTime": 271,
    "lastExecutedAt": 1699122947850,
    "lastScheduledRunId": null,
    "lastSuccessfullyExecutedCode": "# Select the age and trx columns\nage_vs_trx = drug_safety[[\"age\", \"trx\"]]\n\n# Convert age_vs_trx into wide format\nage_vs_trx_wide = age_vs_trx.pivot(columns='trx', \n                                           values='age')\n\n# age_vs_trx_wide\n\n#Run a two-sided Wilcoxon-Mann-Whitney test on age vs. trx\nage_group_effects = pingouin.mwu(x=age_vs_trx_wide['Drug'],\n               y=age_vs_trx_wide['Placebo'],\n               alternative='two-sided')\n\n\n\n# Print the test results\nprint(age_group_effects)\n\n",
    "outputsMetadata": {
     "0": {
      "height": 95,
      "type": "stream"
     }
    }
   },
   "outputs": [
    {
     "name": "stdout",
     "output_type": "stream",
     "text": [
      "          U-val alternative     p-val      RBC      CLES\n",
      "MWU  29149339.5   two-sided  0.256963 -0.01093  0.505465\n"
     ]
    }
   ],
   "source": [
    "# Select the age and trx columns\n",
    "age_vs_trx = drug_safety[[\"age\", \"trx\"]]\n",
    "\n",
    "# Convert age_vs_trx into wide format\n",
    "age_vs_trx_wide = age_vs_trx.pivot(columns='trx', \n",
    "                                           values='age')\n",
    "\n",
    "# age_vs_trx_wide\n",
    "\n",
    "#Run a two-sided Wilcoxon-Mann-Whitney test on age vs. trx\n",
    "age_group_effects = pingouin.mwu(x=age_vs_trx_wide['Drug'],\n",
    "               y=age_vs_trx_wide['Placebo'],\n",
    "               alternative='two-sided')\n",
    "\n",
    "\n",
    "\n",
    "# Print the test results\n",
    "print(age_group_effects)\n",
    "\n"
   ]
  },
  {
   "cell_type": "markdown",
   "id": "f490c311-bacb-4075-951d-bee1823a333e",
   "metadata": {},
   "source": [
    "The analysis reveals that there is no statistically significant difference in the ages between the Drug and Placebo groups. The p-value, which is greater than 0.05, indicates that the data does not provide sufficient evidence to reject the null hypothesis. Therefore, we retain the null hypothesis, suggesting that the ages of individuals in both groups are not significantly different from each other."
   ]
  }
 ],
 "metadata": {
  "colab": {
   "name": "Welcome to DataCamp Workspaces.ipynb",
   "provenance": []
  },
  "kernelspec": {
   "display_name": "Python 3 (ipykernel)",
   "language": "python",
   "name": "python3"
  },
  "language_info": {
   "codemirror_mode": {
    "name": "ipython",
    "version": 3
   },
   "file_extension": ".py",
   "mimetype": "text/x-python",
   "name": "python",
   "nbconvert_exporter": "python",
   "pygments_lexer": "ipython3",
   "version": "3.10.7"
  }
 },
 "nbformat": 4,
 "nbformat_minor": 5
}
